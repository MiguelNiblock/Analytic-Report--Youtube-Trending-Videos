{
 "cells": [
  {
   "cell_type": "markdown",
   "metadata": {
    "_uuid": "1d5f20c60a13060ed0f17e436d2afe1fd398c855",
    "colab_type": "text",
    "id": "8CDDfJ4ipLBU"
   },
   "source": [
    "Thinkful Data Science Fundamentals Capstone Analysis\n",
    "\n",
    "**Youtube Trending Video Statistics**\n",
    "\n",
    "\n",
    "**Describing the Dataset**\n",
    "\n",
    "This dataset is the daily record from the top trending YouTube videos. Top 200 trending videos of a given day. Original Data was collected during 14th November 2017 & 5th March 2018(though, data for January 10th & 11th of 2017 is missing). \n",
    "\n",
    "This dataset is an improved version of a series of parent datasets: \n",
    " \n",
    "* The original dataset was [Trending Youtube Video Statistics and Comments](http://https://www.kaggle.com/datasnaek/youtube/home), which was collected using Youtube's API, and contained files for different countries and files for comments. These were linked by the \"unique_video_id\" field.\n",
    "* A subsequent dataset was structurally improved and named [Trending Youtube Video Statistics](http://https://www.kaggle.com/datasnaek/youtube-new/home), it still was based off one file per country, with the difference that now the comment files were now integrated into each country's file.\n",
    "* Finnally, this dataset [YouTube Trending Video Statistics with Subscriber\n",
    "](http://https://www.kaggle.com/sgonkaggle/youtube-trend-with-subscriber/home) is a fork off the US data only. It was further improved in minor ways and was added a \"Subscriber\" field, by automatically gathering data for each video's subscribers using the author's own Python scripts.\n",
    "\n",
    "\n",
    "**Summary Statistics**\n",
    "\n",
    "Let's explore this data."
   ]
  },
  {
   "cell_type": "code",
   "execution_count": 0,
   "metadata": {
    "_cell_guid": "b1076dfc-b9ad-4769-8c92-a6c4dae69d19",
    "_uuid": "8f2839f25d086af736a60e9eeb907d3b93b6e0e5",
    "colab": {},
    "colab_type": "code",
    "id": "g_asCSZUpLBW",
    "scrolled": true
   },
   "outputs": [],
   "source": [
    "import numpy as np \n",
    "import pandas as pd \n",
    "import matplotlib.pyplot as plt\n",
    "%matplotlib inline"
   ]
  },
  {
   "cell_type": "code",
   "execution_count": 12,
   "metadata": {
    "colab": {
     "base_uri": "https://localhost:8080/",
     "height": 55
    },
    "colab_type": "code",
    "id": "NZVkTWqos5hj",
    "outputId": "73a497fe-0f13-4474-a6ae-b2eee57e2736"
   },
   "outputs": [
    {
     "name": "stdout",
     "output_type": "stream",
     "text": [
      "Drive already mounted at /content/gdrive; to attempt to forcibly remount, call drive.mount(\"/content/gdrive\", force_remount=True).\n"
     ]
    }
   ],
   "source": [
    "from google.colab import drive\n",
    "drive.mount('/content/gdrive')"
   ]
  },
  {
   "cell_type": "code",
   "execution_count": 13,
   "metadata": {
    "colab": {
     "base_uri": "https://localhost:8080/",
     "height": 35
    },
    "colab_type": "code",
    "id": "bYL3Ur3HtH5N",
    "outputId": "1b8f1d34-2903-4893-87b9-1ad9c22a9ea8"
   },
   "outputs": [
    {
     "name": "stdout",
     "output_type": "stream",
     "text": [
      "['sample_data', '.config', 'gdrive']\n"
     ]
    }
   ],
   "source": [
    "import os\n",
    "print(os.listdir())# we need to know the filename"
   ]
  },
  {
   "cell_type": "code",
   "execution_count": 14,
   "metadata": {
    "_cell_guid": "79c7e3d0-c299-4dcb-8224-4455121ee9b0",
    "_uuid": "d629ff2d2480ee46fbb7e2d37f6b5fab8052498a",
    "colab": {
     "base_uri": "https://localhost:8080/",
     "height": 1056
    },
    "colab_type": "code",
    "id": "iwzuYXHlpLBd",
    "outputId": "408fee70-7e06-49e5-ae9b-2d7eae3180e0",
    "scrolled": true
   },
   "outputs": [
    {
     "data": {
      "text/html": [
       "<div>\n",
       "<style scoped>\n",
       "    .dataframe tbody tr th:only-of-type {\n",
       "        vertical-align: middle;\n",
       "    }\n",
       "\n",
       "    .dataframe tbody tr th {\n",
       "        vertical-align: top;\n",
       "    }\n",
       "\n",
       "    .dataframe thead th {\n",
       "        text-align: right;\n",
       "    }\n",
       "</style>\n",
       "<table border=\"1\" class=\"dataframe\">\n",
       "  <thead>\n",
       "    <tr style=\"text-align: right;\">\n",
       "      <th></th>\n",
       "      <th>last_trending_date</th>\n",
       "      <th>publish_date</th>\n",
       "      <th>publish_hour</th>\n",
       "      <th>category_id</th>\n",
       "      <th>channel_title</th>\n",
       "      <th>views</th>\n",
       "      <th>likes</th>\n",
       "      <th>dislikes</th>\n",
       "      <th>comment_count</th>\n",
       "      <th>comments_disabled</th>\n",
       "      <th>...</th>\n",
       "      <th>tag_appeared_in_title</th>\n",
       "      <th>title</th>\n",
       "      <th>tags</th>\n",
       "      <th>description</th>\n",
       "      <th>trend_day_count</th>\n",
       "      <th>trend.publish.diff</th>\n",
       "      <th>trend_tag_highest</th>\n",
       "      <th>trend_tag_total</th>\n",
       "      <th>tags_count</th>\n",
       "      <th>subscriber</th>\n",
       "    </tr>\n",
       "    <tr>\n",
       "      <th>video_id</th>\n",
       "      <th></th>\n",
       "      <th></th>\n",
       "      <th></th>\n",
       "      <th></th>\n",
       "      <th></th>\n",
       "      <th></th>\n",
       "      <th></th>\n",
       "      <th></th>\n",
       "      <th></th>\n",
       "      <th></th>\n",
       "      <th></th>\n",
       "      <th></th>\n",
       "      <th></th>\n",
       "      <th></th>\n",
       "      <th></th>\n",
       "      <th></th>\n",
       "      <th></th>\n",
       "      <th></th>\n",
       "      <th></th>\n",
       "      <th></th>\n",
       "      <th></th>\n",
       "    </tr>\n",
       "  </thead>\n",
       "  <tbody>\n",
       "    <tr>\n",
       "      <th>2kyS6SvSYSE</th>\n",
       "      <td>2017-11-20</td>\n",
       "      <td>2017-11-13</td>\n",
       "      <td>17</td>\n",
       "      <td>22</td>\n",
       "      <td>CaseyNeistat</td>\n",
       "      <td>2564903</td>\n",
       "      <td>96321</td>\n",
       "      <td>7972</td>\n",
       "      <td>22149</td>\n",
       "      <td>False</td>\n",
       "      <td>...</td>\n",
       "      <td>False</td>\n",
       "      <td>WE WANT TO TALK ABOUT OUR MARRIAGE</td>\n",
       "      <td>SHANtell martin</td>\n",
       "      <td>SHANTELL'S CHANNEL - https://www.youtube.com/s...</td>\n",
       "      <td>7</td>\n",
       "      <td>7</td>\n",
       "      <td>2</td>\n",
       "      <td>2</td>\n",
       "      <td>1</td>\n",
       "      <td>9086142.0</td>\n",
       "    </tr>\n",
       "    <tr>\n",
       "      <th>1ZAPwfrtAFY</th>\n",
       "      <td>2017-11-20</td>\n",
       "      <td>2017-11-13</td>\n",
       "      <td>7</td>\n",
       "      <td>24</td>\n",
       "      <td>LastWeekTonight</td>\n",
       "      <td>6109402</td>\n",
       "      <td>151250</td>\n",
       "      <td>11508</td>\n",
       "      <td>19820</td>\n",
       "      <td>False</td>\n",
       "      <td>...</td>\n",
       "      <td>False</td>\n",
       "      <td>The Trump Presidency: Last Week Tonight with J...</td>\n",
       "      <td>last week tonight trump presidency|last week t...</td>\n",
       "      <td>One year after the presidential election, John...</td>\n",
       "      <td>7</td>\n",
       "      <td>7</td>\n",
       "      <td>65</td>\n",
       "      <td>69</td>\n",
       "      <td>4</td>\n",
       "      <td>5937292.0</td>\n",
       "    </tr>\n",
       "    <tr>\n",
       "      <th>5qpjK5DgCt4</th>\n",
       "      <td>2017-11-20</td>\n",
       "      <td>2017-11-12</td>\n",
       "      <td>19</td>\n",
       "      <td>23</td>\n",
       "      <td>Rudy Mancuso</td>\n",
       "      <td>5315471</td>\n",
       "      <td>187303</td>\n",
       "      <td>7278</td>\n",
       "      <td>9990</td>\n",
       "      <td>False</td>\n",
       "      <td>...</td>\n",
       "      <td>True</td>\n",
       "      <td>Racist Superman | Rudy Mancuso, King Bach &amp; Le...</td>\n",
       "      <td>racist superman|rudy|mancuso|king|bach|racist|...</td>\n",
       "      <td>WATCH MY PREVIOUS VIDEO ▶ \\n\\nSUBSCRIBE ► http...</td>\n",
       "      <td>7</td>\n",
       "      <td>8</td>\n",
       "      <td>68</td>\n",
       "      <td>426</td>\n",
       "      <td>23</td>\n",
       "      <td>4191209.0</td>\n",
       "    </tr>\n",
       "    <tr>\n",
       "      <th>puqaWrEC7tY</th>\n",
       "      <td>2017-11-20</td>\n",
       "      <td>2017-11-13</td>\n",
       "      <td>11</td>\n",
       "      <td>24</td>\n",
       "      <td>Good Mythical Morning</td>\n",
       "      <td>913268</td>\n",
       "      <td>16729</td>\n",
       "      <td>1386</td>\n",
       "      <td>2988</td>\n",
       "      <td>False</td>\n",
       "      <td>...</td>\n",
       "      <td>True</td>\n",
       "      <td>Nickelback Lyrics: Real or Fake?</td>\n",
       "      <td>rhett and link|gmm|good mythical morning|rhett...</td>\n",
       "      <td>Today we find out if Link is a Nickelback amat...</td>\n",
       "      <td>7</td>\n",
       "      <td>7</td>\n",
       "      <td>488</td>\n",
       "      <td>1246</td>\n",
       "      <td>28</td>\n",
       "      <td>13186408.0</td>\n",
       "    </tr>\n",
       "    <tr>\n",
       "      <th>d380meD0W0M</th>\n",
       "      <td>2017-11-19</td>\n",
       "      <td>2017-11-12</td>\n",
       "      <td>18</td>\n",
       "      <td>24</td>\n",
       "      <td>nigahiga</td>\n",
       "      <td>2819118</td>\n",
       "      <td>153395</td>\n",
       "      <td>2416</td>\n",
       "      <td>20573</td>\n",
       "      <td>False</td>\n",
       "      <td>...</td>\n",
       "      <td>True</td>\n",
       "      <td>I Dare You: GOING BALD!?</td>\n",
       "      <td>ryan|higa|higatv|nigahiga|i dare you|idy|rhpc|...</td>\n",
       "      <td>I know it's been a while since we did this sho...</td>\n",
       "      <td>6</td>\n",
       "      <td>7</td>\n",
       "      <td>488</td>\n",
       "      <td>1007</td>\n",
       "      <td>14</td>\n",
       "      <td>20563106.0</td>\n",
       "    </tr>\n",
       "    <tr>\n",
       "      <th>gHZ1Qz0KiKM</th>\n",
       "      <td>2017-11-20</td>\n",
       "      <td>2017-11-13</td>\n",
       "      <td>19</td>\n",
       "      <td>28</td>\n",
       "      <td>iJustine</td>\n",
       "      <td>1038365</td>\n",
       "      <td>22594</td>\n",
       "      <td>2798</td>\n",
       "      <td>3142</td>\n",
       "      <td>False</td>\n",
       "      <td>...</td>\n",
       "      <td>True</td>\n",
       "      <td>2 Weeks with iPhone X</td>\n",
       "      <td>ijustine|week with iPhone X|iphone x|apple|iph...</td>\n",
       "      <td>Thanks for watching! Don't forget to subscribe...</td>\n",
       "      <td>7</td>\n",
       "      <td>7</td>\n",
       "      <td>38</td>\n",
       "      <td>122</td>\n",
       "      <td>7</td>\n",
       "      <td>4652602.0</td>\n",
       "    </tr>\n",
       "    <tr>\n",
       "      <th>39idVpFF7NQ</th>\n",
       "      <td>2017-11-18</td>\n",
       "      <td>2017-11-12</td>\n",
       "      <td>5</td>\n",
       "      <td>24</td>\n",
       "      <td>Saturday Night Live</td>\n",
       "      <td>2688797</td>\n",
       "      <td>19042</td>\n",
       "      <td>3059</td>\n",
       "      <td>2689</td>\n",
       "      <td>False</td>\n",
       "      <td>...</td>\n",
       "      <td>True</td>\n",
       "      <td>Roy Moore &amp; Jeff Sessions Cold Open - SNL</td>\n",
       "      <td>SNL|Saturday Night Live|SNL Season 43|Episode ...</td>\n",
       "      <td>Embattled Alabama Senate candidate Roy Moore (...</td>\n",
       "      <td>5</td>\n",
       "      <td>6</td>\n",
       "      <td>488</td>\n",
       "      <td>2216</td>\n",
       "      <td>42</td>\n",
       "      <td>5292034.0</td>\n",
       "    </tr>\n",
       "    <tr>\n",
       "      <th>nc99ccSXST0</th>\n",
       "      <td>2017-11-19</td>\n",
       "      <td>2017-11-12</td>\n",
       "      <td>21</td>\n",
       "      <td>28</td>\n",
       "      <td>CrazyRussianHacker</td>\n",
       "      <td>1251577</td>\n",
       "      <td>28951</td>\n",
       "      <td>1146</td>\n",
       "      <td>2606</td>\n",
       "      <td>False</td>\n",
       "      <td>...</td>\n",
       "      <td>True</td>\n",
       "      <td>5 Ice Cream Gadgets put to the Test</td>\n",
       "      <td>5 Ice Cream Gadgets|Ice Cream|Cream Sandwich M...</td>\n",
       "      <td>Ice Cream Pint Combination Lock - http://amzn....</td>\n",
       "      <td>6</td>\n",
       "      <td>7</td>\n",
       "      <td>113</td>\n",
       "      <td>180</td>\n",
       "      <td>13</td>\n",
       "      <td>10474796.0</td>\n",
       "    </tr>\n",
       "    <tr>\n",
       "      <th>jr9QtXwC9vc</th>\n",
       "      <td>2017-11-15</td>\n",
       "      <td>2017-11-13</td>\n",
       "      <td>14</td>\n",
       "      <td>1</td>\n",
       "      <td>20th Century Fox</td>\n",
       "      <td>2671756</td>\n",
       "      <td>12699</td>\n",
       "      <td>505</td>\n",
       "      <td>1010</td>\n",
       "      <td>False</td>\n",
       "      <td>...</td>\n",
       "      <td>True</td>\n",
       "      <td>The Greatest Showman | Official Trailer 2 [HD]...</td>\n",
       "      <td>Trailer|Hugh Jackman|Michelle Williams|Zac Efr...</td>\n",
       "      <td>Inspired by the imagination of P.T. Barnum, Th...</td>\n",
       "      <td>2</td>\n",
       "      <td>2</td>\n",
       "      <td>151</td>\n",
       "      <td>458</td>\n",
       "      <td>28</td>\n",
       "      <td>2453494.0</td>\n",
       "    </tr>\n",
       "    <tr>\n",
       "      <th>TUmyygCMMGA</th>\n",
       "      <td>2017-11-15</td>\n",
       "      <td>2017-11-13</td>\n",
       "      <td>13</td>\n",
       "      <td>25</td>\n",
       "      <td>Vox</td>\n",
       "      <td>635985</td>\n",
       "      <td>20721</td>\n",
       "      <td>2417</td>\n",
       "      <td>4111</td>\n",
       "      <td>False</td>\n",
       "      <td>...</td>\n",
       "      <td>True</td>\n",
       "      <td>Why the rise of the robots won’t mean the end ...</td>\n",
       "      <td>vox.com|vox|explain|shift change|future of wor...</td>\n",
       "      <td>For now, at least, we have better things to wo...</td>\n",
       "      <td>2</td>\n",
       "      <td>2</td>\n",
       "      <td>39</td>\n",
       "      <td>170</td>\n",
       "      <td>20</td>\n",
       "      <td>3808198.0</td>\n",
       "    </tr>\n",
       "  </tbody>\n",
       "</table>\n",
       "<p>10 rows × 22 columns</p>\n",
       "</div>"
      ],
      "text/plain": [
       "            last_trending_date publish_date  publish_hour  category_id  \\\n",
       "video_id                                                                 \n",
       "2kyS6SvSYSE         2017-11-20   2017-11-13            17           22   \n",
       "1ZAPwfrtAFY         2017-11-20   2017-11-13             7           24   \n",
       "5qpjK5DgCt4         2017-11-20   2017-11-12            19           23   \n",
       "puqaWrEC7tY         2017-11-20   2017-11-13            11           24   \n",
       "d380meD0W0M         2017-11-19   2017-11-12            18           24   \n",
       "gHZ1Qz0KiKM         2017-11-20   2017-11-13            19           28   \n",
       "39idVpFF7NQ         2017-11-18   2017-11-12             5           24   \n",
       "nc99ccSXST0         2017-11-19   2017-11-12            21           28   \n",
       "jr9QtXwC9vc         2017-11-15   2017-11-13            14            1   \n",
       "TUmyygCMMGA         2017-11-15   2017-11-13            13           25   \n",
       "\n",
       "                     channel_title    views   likes  dislikes  comment_count  \\\n",
       "video_id                                                                       \n",
       "2kyS6SvSYSE           CaseyNeistat  2564903   96321      7972          22149   \n",
       "1ZAPwfrtAFY        LastWeekTonight  6109402  151250     11508          19820   \n",
       "5qpjK5DgCt4           Rudy Mancuso  5315471  187303      7278           9990   \n",
       "puqaWrEC7tY  Good Mythical Morning   913268   16729      1386           2988   \n",
       "d380meD0W0M               nigahiga  2819118  153395      2416          20573   \n",
       "gHZ1Qz0KiKM               iJustine  1038365   22594      2798           3142   \n",
       "39idVpFF7NQ    Saturday Night Live  2688797   19042      3059           2689   \n",
       "nc99ccSXST0     CrazyRussianHacker  1251577   28951      1146           2606   \n",
       "jr9QtXwC9vc       20th Century Fox  2671756   12699       505           1010   \n",
       "TUmyygCMMGA                    Vox   635985   20721      2417           4111   \n",
       "\n",
       "             comments_disabled     ...      tag_appeared_in_title  \\\n",
       "video_id                           ...                              \n",
       "2kyS6SvSYSE              False     ...                      False   \n",
       "1ZAPwfrtAFY              False     ...                      False   \n",
       "5qpjK5DgCt4              False     ...                       True   \n",
       "puqaWrEC7tY              False     ...                       True   \n",
       "d380meD0W0M              False     ...                       True   \n",
       "gHZ1Qz0KiKM              False     ...                       True   \n",
       "39idVpFF7NQ              False     ...                       True   \n",
       "nc99ccSXST0              False     ...                       True   \n",
       "jr9QtXwC9vc              False     ...                       True   \n",
       "TUmyygCMMGA              False     ...                       True   \n",
       "\n",
       "                                                         title  \\\n",
       "video_id                                                         \n",
       "2kyS6SvSYSE                 WE WANT TO TALK ABOUT OUR MARRIAGE   \n",
       "1ZAPwfrtAFY  The Trump Presidency: Last Week Tonight with J...   \n",
       "5qpjK5DgCt4  Racist Superman | Rudy Mancuso, King Bach & Le...   \n",
       "puqaWrEC7tY                   Nickelback Lyrics: Real or Fake?   \n",
       "d380meD0W0M                           I Dare You: GOING BALD!?   \n",
       "gHZ1Qz0KiKM                              2 Weeks with iPhone X   \n",
       "39idVpFF7NQ          Roy Moore & Jeff Sessions Cold Open - SNL   \n",
       "nc99ccSXST0                5 Ice Cream Gadgets put to the Test   \n",
       "jr9QtXwC9vc  The Greatest Showman | Official Trailer 2 [HD]...   \n",
       "TUmyygCMMGA  Why the rise of the robots won’t mean the end ...   \n",
       "\n",
       "                                                          tags  \\\n",
       "video_id                                                         \n",
       "2kyS6SvSYSE                                    SHANtell martin   \n",
       "1ZAPwfrtAFY  last week tonight trump presidency|last week t...   \n",
       "5qpjK5DgCt4  racist superman|rudy|mancuso|king|bach|racist|...   \n",
       "puqaWrEC7tY  rhett and link|gmm|good mythical morning|rhett...   \n",
       "d380meD0W0M  ryan|higa|higatv|nigahiga|i dare you|idy|rhpc|...   \n",
       "gHZ1Qz0KiKM  ijustine|week with iPhone X|iphone x|apple|iph...   \n",
       "39idVpFF7NQ  SNL|Saturday Night Live|SNL Season 43|Episode ...   \n",
       "nc99ccSXST0  5 Ice Cream Gadgets|Ice Cream|Cream Sandwich M...   \n",
       "jr9QtXwC9vc  Trailer|Hugh Jackman|Michelle Williams|Zac Efr...   \n",
       "TUmyygCMMGA  vox.com|vox|explain|shift change|future of wor...   \n",
       "\n",
       "                                                   description  \\\n",
       "video_id                                                         \n",
       "2kyS6SvSYSE  SHANTELL'S CHANNEL - https://www.youtube.com/s...   \n",
       "1ZAPwfrtAFY  One year after the presidential election, John...   \n",
       "5qpjK5DgCt4  WATCH MY PREVIOUS VIDEO ▶ \\n\\nSUBSCRIBE ► http...   \n",
       "puqaWrEC7tY  Today we find out if Link is a Nickelback amat...   \n",
       "d380meD0W0M  I know it's been a while since we did this sho...   \n",
       "gHZ1Qz0KiKM  Thanks for watching! Don't forget to subscribe...   \n",
       "39idVpFF7NQ  Embattled Alabama Senate candidate Roy Moore (...   \n",
       "nc99ccSXST0  Ice Cream Pint Combination Lock - http://amzn....   \n",
       "jr9QtXwC9vc  Inspired by the imagination of P.T. Barnum, Th...   \n",
       "TUmyygCMMGA  For now, at least, we have better things to wo...   \n",
       "\n",
       "            trend_day_count trend.publish.diff  trend_tag_highest  \\\n",
       "video_id                                                            \n",
       "2kyS6SvSYSE               7                  7                  2   \n",
       "1ZAPwfrtAFY               7                  7                 65   \n",
       "5qpjK5DgCt4               7                  8                 68   \n",
       "puqaWrEC7tY               7                  7                488   \n",
       "d380meD0W0M               6                  7                488   \n",
       "gHZ1Qz0KiKM               7                  7                 38   \n",
       "39idVpFF7NQ               5                  6                488   \n",
       "nc99ccSXST0               6                  7                113   \n",
       "jr9QtXwC9vc               2                  2                151   \n",
       "TUmyygCMMGA               2                  2                 39   \n",
       "\n",
       "             trend_tag_total  tags_count  subscriber  \n",
       "video_id                                              \n",
       "2kyS6SvSYSE                2           1   9086142.0  \n",
       "1ZAPwfrtAFY               69           4   5937292.0  \n",
       "5qpjK5DgCt4              426          23   4191209.0  \n",
       "puqaWrEC7tY             1246          28  13186408.0  \n",
       "d380meD0W0M             1007          14  20563106.0  \n",
       "gHZ1Qz0KiKM              122           7   4652602.0  \n",
       "39idVpFF7NQ             2216          42   5292034.0  \n",
       "nc99ccSXST0              180          13  10474796.0  \n",
       "jr9QtXwC9vc              458          28   2453494.0  \n",
       "TUmyygCMMGA              170          20   3808198.0  \n",
       "\n",
       "[10 rows x 22 columns]"
      ]
     },
     "execution_count": 14,
     "metadata": {
      "tags": []
     },
     "output_type": "execute_result"
    }
   ],
   "source": [
    "# import the file using pandas read_csv function\n",
    "usvids = pd.read_csv('gdrive/My Drive/Data Science/JupyterNotebooks/DataSets/youtube-trend-with-subscriber/USvideos_modified.csv', index_col='video_id')\n",
    "# let's see the columns\n",
    "usvids.head(10)\n"
   ]
  },
  {
   "cell_type": "code",
   "execution_count": 15,
   "metadata": {
    "_uuid": "280b638e2edba25ec967f9706e3256dd8d61cc8e",
    "colab": {
     "base_uri": "https://localhost:8080/",
     "height": 457
    },
    "colab_type": "code",
    "id": "8W4yOvukpLBh",
    "outputId": "5d32803e-539d-4b7d-ccd0-1ecd6b10ed4c",
    "scrolled": false
   },
   "outputs": [
    {
     "name": "stdout",
     "output_type": "stream",
     "text": [
      "(4547, 22)\n",
      "video_id: 4547\n",
      "last_trending_date              110\n",
      "publish_date                    211\n",
      "publish_hour                     24\n",
      "category_id                      16\n",
      "channel_title                  1905\n",
      "views                          4532\n",
      "likes                          3949\n",
      "dislikes                       1842\n",
      "comment_count                  2645\n",
      "comments_disabled                 2\n",
      "ratings_disabled                  2\n",
      "tag_appeared_in_title_count      18\n",
      "tag_appeared_in_title             2\n",
      "title                          4540\n",
      "tags                           4190\n",
      "description                    4415\n",
      "trend_day_count                  14\n",
      "trend.publish.diff              127\n",
      "trend_tag_highest               111\n",
      "trend_tag_total                1256\n",
      "tags_count                       65\n",
      "subscriber                     1831\n",
      "dtype: int64\n"
     ]
    }
   ],
   "source": [
    "# Let's see how many rows and columns we have,\n",
    "# and how many of them have distinct values.\n",
    "\n",
    "# Total number of rows and columns.\n",
    "print(usvids.shape)\n",
    "# Are there any duplicates?\n",
    "print(\"video_id: \"+ str(usvids.index.nunique()))\n",
    "# Number of unique values for each column.\n",
    "print(usvids.nunique())"
   ]
  },
  {
   "cell_type": "markdown",
   "metadata": {
    "_uuid": "6bfde611bba769a97e7371a74201b9c1033dbd6a",
    "colab_type": "text",
    "id": "p9XJh3xgpLBm"
   },
   "source": [
    "**Observations from the unique number of values for each column:**\n",
    "\n",
    "* There are no video duplicates, since the number of unique video ID's is the same as the total number of videos.\n",
    "* The publish date has 211 unique values from a total of 4547 videos. This means that many videos were published on the same dates. It would be interesting to see if certain dates or seasons were more popular than others for publishing videos. Is there a correlation between publish date and views or days trending?\n",
    "* The last trending date has 110 unique values, which is even less than the unique values in the publish date. This means there were similar dates after which many of these videos stopped trending. This would be another interesting variable to plot. Are there dates of the year where people simply watched less videos, thus causing these to stop trending?\n"
   ]
  },
  {
   "cell_type": "code",
   "execution_count": 16,
   "metadata": {
    "_uuid": "cfd62ac7bba187c79bd2bc561db52df1c1e9d6a7",
    "colab": {
     "base_uri": "https://localhost:8080/",
     "height": 492
    },
    "colab_type": "code",
    "id": "X4tq3W15pLBn",
    "outputId": "e6a0a0af-d8aa-4441-c2e3-848d909d9b27",
    "scrolled": false
   },
   "outputs": [
    {
     "name": "stdout",
     "output_type": "stream",
     "text": [
      "<class 'pandas.core.frame.DataFrame'>\n",
      "Index: 4547 entries, 2kyS6SvSYSE to Eouvsy8JdLU\n",
      "Data columns (total 22 columns):\n",
      "last_trending_date             4547 non-null object\n",
      "publish_date                   4547 non-null object\n",
      "publish_hour                   4547 non-null int64\n",
      "category_id                    4547 non-null int64\n",
      "channel_title                  4547 non-null object\n",
      "views                          4547 non-null int64\n",
      "likes                          4547 non-null int64\n",
      "dislikes                       4547 non-null int64\n",
      "comment_count                  4547 non-null int64\n",
      "comments_disabled              4547 non-null bool\n",
      "ratings_disabled               4547 non-null bool\n",
      "tag_appeared_in_title_count    4547 non-null int64\n",
      "tag_appeared_in_title          4547 non-null bool\n",
      "title                          4547 non-null object\n",
      "tags                           4339 non-null object\n",
      "description                    4458 non-null object\n",
      "trend_day_count                4547 non-null int64\n",
      "trend.publish.diff             4547 non-null int64\n",
      "trend_tag_highest              4547 non-null int64\n",
      "trend_tag_total                4547 non-null int64\n",
      "tags_count                     4547 non-null int64\n",
      "subscriber                     4525 non-null float64\n",
      "dtypes: bool(3), float64(1), int64(12), object(6)\n",
      "memory usage: 723.8+ KB\n"
     ]
    }
   ],
   "source": [
    "#Looking for missing values and type of our data\n",
    "usvids.info()"
   ]
  },
  {
   "cell_type": "markdown",
   "metadata": {
    "_uuid": "5ee1b513fa776eb5fe6986a4d3707cf37095ec3f",
    "colab_type": "text",
    "id": "YFIRGclEpLBs"
   },
   "source": [
    "**Observations from info on missing values:**\n",
    "\n",
    "For the most part the data is complete. Only a small fraction of videos have no tags or description. Could there be a relation between the number of tags and the number of views? If there is a relation, are there any other features that these videos with missing values have in common?\n"
   ]
  },
  {
   "cell_type": "code",
   "execution_count": 17,
   "metadata": {
    "_uuid": "0599f49ac5be2e93d1dfda7faacdaefc7dc7cdb5",
    "colab": {
     "base_uri": "https://localhost:8080/",
     "height": 315
    },
    "colab_type": "code",
    "id": "DYxihGzapLBu",
    "outputId": "a48f0422-cf76-4086-d1cf-593c04f3390e",
    "scrolled": true
   },
   "outputs": [
    {
     "data": {
      "text/html": [
       "<div>\n",
       "<style scoped>\n",
       "    .dataframe tbody tr th:only-of-type {\n",
       "        vertical-align: middle;\n",
       "    }\n",
       "\n",
       "    .dataframe tbody tr th {\n",
       "        vertical-align: top;\n",
       "    }\n",
       "\n",
       "    .dataframe thead th {\n",
       "        text-align: right;\n",
       "    }\n",
       "</style>\n",
       "<table border=\"1\" class=\"dataframe\">\n",
       "  <thead>\n",
       "    <tr style=\"text-align: right;\">\n",
       "      <th></th>\n",
       "      <th>publish_hour</th>\n",
       "      <th>category_id</th>\n",
       "      <th>views</th>\n",
       "      <th>likes</th>\n",
       "      <th>dislikes</th>\n",
       "      <th>comment_count</th>\n",
       "      <th>tag_appeared_in_title_count</th>\n",
       "      <th>trend_day_count</th>\n",
       "      <th>trend.publish.diff</th>\n",
       "      <th>trend_tag_highest</th>\n",
       "      <th>trend_tag_total</th>\n",
       "      <th>tags_count</th>\n",
       "      <th>subscriber</th>\n",
       "    </tr>\n",
       "  </thead>\n",
       "  <tbody>\n",
       "    <tr>\n",
       "      <th>count</th>\n",
       "      <td>4547.000000</td>\n",
       "      <td>4547.000000</td>\n",
       "      <td>4.547000e+03</td>\n",
       "      <td>4.547000e+03</td>\n",
       "      <td>4.547000e+03</td>\n",
       "      <td>4.547000e+03</td>\n",
       "      <td>4547.000000</td>\n",
       "      <td>4547.000000</td>\n",
       "      <td>4547.000000</td>\n",
       "      <td>4547.000000</td>\n",
       "      <td>4547.000000</td>\n",
       "      <td>4547.000000</td>\n",
       "      <td>4.525000e+03</td>\n",
       "    </tr>\n",
       "    <tr>\n",
       "      <th>mean</th>\n",
       "      <td>13.503189</td>\n",
       "      <td>20.416538</td>\n",
       "      <td>1.265665e+06</td>\n",
       "      <td>3.919696e+04</td>\n",
       "      <td>2.616788e+03</td>\n",
       "      <td>4.938788e+03</td>\n",
       "      <td>2.961293</td>\n",
       "      <td>4.830658</td>\n",
       "      <td>34.429954</td>\n",
       "      <td>130.335386</td>\n",
       "      <td>437.941060</td>\n",
       "      <td>19.209369</td>\n",
       "      <td>3.164303e+06</td>\n",
       "    </tr>\n",
       "    <tr>\n",
       "      <th>std</th>\n",
       "      <td>6.548420</td>\n",
       "      <td>7.309226</td>\n",
       "      <td>4.526133e+06</td>\n",
       "      <td>1.419793e+05</td>\n",
       "      <td>3.662803e+04</td>\n",
       "      <td>3.110122e+04</td>\n",
       "      <td>2.482547</td>\n",
       "      <td>2.614707</td>\n",
       "      <td>247.514298</td>\n",
       "      <td>150.400756</td>\n",
       "      <td>616.584168</td>\n",
       "      <td>12.452361</td>\n",
       "      <td>4.831613e+06</td>\n",
       "    </tr>\n",
       "    <tr>\n",
       "      <th>min</th>\n",
       "      <td>0.000000</td>\n",
       "      <td>1.000000</td>\n",
       "      <td>5.590000e+02</td>\n",
       "      <td>0.000000e+00</td>\n",
       "      <td>0.000000e+00</td>\n",
       "      <td>0.000000e+00</td>\n",
       "      <td>0.000000</td>\n",
       "      <td>1.000000</td>\n",
       "      <td>0.000000</td>\n",
       "      <td>0.000000</td>\n",
       "      <td>0.000000</td>\n",
       "      <td>0.000000</td>\n",
       "      <td>0.000000e+00</td>\n",
       "    </tr>\n",
       "    <tr>\n",
       "      <th>25%</th>\n",
       "      <td>8.000000</td>\n",
       "      <td>17.000000</td>\n",
       "      <td>9.089650e+04</td>\n",
       "      <td>1.486000e+03</td>\n",
       "      <td>7.600000e+01</td>\n",
       "      <td>2.260000e+02</td>\n",
       "      <td>1.000000</td>\n",
       "      <td>3.000000</td>\n",
       "      <td>5.000000</td>\n",
       "      <td>22.000000</td>\n",
       "      <td>68.000000</td>\n",
       "      <td>9.000000</td>\n",
       "      <td>2.466470e+05</td>\n",
       "    </tr>\n",
       "    <tr>\n",
       "      <th>50%</th>\n",
       "      <td>15.000000</td>\n",
       "      <td>24.000000</td>\n",
       "      <td>3.188400e+05</td>\n",
       "      <td>7.397000e+03</td>\n",
       "      <td>2.910000e+02</td>\n",
       "      <td>8.540000e+02</td>\n",
       "      <td>3.000000</td>\n",
       "      <td>5.000000</td>\n",
       "      <td>6.000000</td>\n",
       "      <td>85.000000</td>\n",
       "      <td>217.000000</td>\n",
       "      <td>18.000000</td>\n",
       "      <td>1.198769e+06</td>\n",
       "    </tr>\n",
       "    <tr>\n",
       "      <th>75%</th>\n",
       "      <td>18.000000</td>\n",
       "      <td>25.000000</td>\n",
       "      <td>1.006673e+06</td>\n",
       "      <td>2.557550e+04</td>\n",
       "      <td>1.023000e+03</td>\n",
       "      <td>2.862500e+03</td>\n",
       "      <td>4.000000</td>\n",
       "      <td>7.000000</td>\n",
       "      <td>7.000000</td>\n",
       "      <td>151.000000</td>\n",
       "      <td>515.000000</td>\n",
       "      <td>29.000000</td>\n",
       "      <td>3.766915e+06</td>\n",
       "    </tr>\n",
       "    <tr>\n",
       "      <th>max</th>\n",
       "      <td>23.000000</td>\n",
       "      <td>43.000000</td>\n",
       "      <td>1.493761e+08</td>\n",
       "      <td>3.093544e+06</td>\n",
       "      <td>1.674420e+06</td>\n",
       "      <td>1.361580e+06</td>\n",
       "      <td>18.000000</td>\n",
       "      <td>14.000000</td>\n",
       "      <td>4215.000000</td>\n",
       "      <td>488.000000</td>\n",
       "      <td>3644.000000</td>\n",
       "      <td>69.000000</td>\n",
       "      <td>2.867694e+07</td>\n",
       "    </tr>\n",
       "  </tbody>\n",
       "</table>\n",
       "</div>"
      ],
      "text/plain": [
       "       publish_hour  category_id         views         likes      dislikes  \\\n",
       "count   4547.000000  4547.000000  4.547000e+03  4.547000e+03  4.547000e+03   \n",
       "mean      13.503189    20.416538  1.265665e+06  3.919696e+04  2.616788e+03   \n",
       "std        6.548420     7.309226  4.526133e+06  1.419793e+05  3.662803e+04   \n",
       "min        0.000000     1.000000  5.590000e+02  0.000000e+00  0.000000e+00   \n",
       "25%        8.000000    17.000000  9.089650e+04  1.486000e+03  7.600000e+01   \n",
       "50%       15.000000    24.000000  3.188400e+05  7.397000e+03  2.910000e+02   \n",
       "75%       18.000000    25.000000  1.006673e+06  2.557550e+04  1.023000e+03   \n",
       "max       23.000000    43.000000  1.493761e+08  3.093544e+06  1.674420e+06   \n",
       "\n",
       "       comment_count  tag_appeared_in_title_count  trend_day_count  \\\n",
       "count   4.547000e+03                  4547.000000      4547.000000   \n",
       "mean    4.938788e+03                     2.961293         4.830658   \n",
       "std     3.110122e+04                     2.482547         2.614707   \n",
       "min     0.000000e+00                     0.000000         1.000000   \n",
       "25%     2.260000e+02                     1.000000         3.000000   \n",
       "50%     8.540000e+02                     3.000000         5.000000   \n",
       "75%     2.862500e+03                     4.000000         7.000000   \n",
       "max     1.361580e+06                    18.000000        14.000000   \n",
       "\n",
       "       trend.publish.diff  trend_tag_highest  trend_tag_total   tags_count  \\\n",
       "count         4547.000000        4547.000000      4547.000000  4547.000000   \n",
       "mean            34.429954         130.335386       437.941060    19.209369   \n",
       "std            247.514298         150.400756       616.584168    12.452361   \n",
       "min              0.000000           0.000000         0.000000     0.000000   \n",
       "25%              5.000000          22.000000        68.000000     9.000000   \n",
       "50%              6.000000          85.000000       217.000000    18.000000   \n",
       "75%              7.000000         151.000000       515.000000    29.000000   \n",
       "max           4215.000000         488.000000      3644.000000    69.000000   \n",
       "\n",
       "         subscriber  \n",
       "count  4.525000e+03  \n",
       "mean   3.164303e+06  \n",
       "std    4.831613e+06  \n",
       "min    0.000000e+00  \n",
       "25%    2.466470e+05  \n",
       "50%    1.198769e+06  \n",
       "75%    3.766915e+06  \n",
       "max    2.867694e+07  "
      ]
     },
     "execution_count": 17,
     "metadata": {
      "tags": []
     },
     "output_type": "execute_result"
    }
   ],
   "source": [
    "# Let's get a statistical summary of each numerical column.\n",
    "usvids.describe()"
   ]
  },
  {
   "cell_type": "markdown",
   "metadata": {
    "_uuid": "836f78ac44aff4ce569022850fe17724c739514f",
    "colab_type": "text",
    "id": "oORCGnorpLB0"
   },
   "source": [
    "**Observations from Statistical Description:**\n",
    "\n",
    "* Tag Appeared in Title Count. Most of the trending videos have an average of 2.9 tags included in their title. The 75th percentile of videos have 4 tags in title. The maximum number of tags in a title was 18, a big jump from the 75th percentile. This is clearly an outlier and would be interesting to see which video this is and if there are other similar deviations. Did this video get more views/likes? Are tags in title a good predictor to views & likes?\n",
    "*  Trend Publish Difference. In average, a video takes 34 days to trend from the date it is published. Except that we have a major outlier of 4215 days. This means there was a trending video that was published over 10 years ago. This might be affecting the mean and the standard deviation of 247. If we removed this outlier, what would be the mean and standard deviation?\n",
    "* Tags Count. Most trending videos had an average of 19 tags total. Some had 0 tags and at least one had 69 tags. This is another outlier, since the 75th percentile is at only 29 tags. It's a jump of twice the number of tags in 3/4 of all the trending videos. "
   ]
  },
  {
   "cell_type": "markdown",
   "metadata": {
    "_uuid": "22bb6fa8ff3cae14c162dc3fc121cb44e1000af1",
    "colab_type": "text",
    "id": "DGuIr4lopLB2"
   },
   "source": [
    "**Analytical Questions:**\n",
    "\n",
    "**Question 1: What variable has the strongest correlation with the number of views in this dataset?**\n",
    "\n",
    "Visualizing this will help us gain a better understanding of this data, and might clarify some of the questions raised in the previous sections.\n",
    "\n",
    "Let's plot the meaningful variables against the number of views...\n"
   ]
  },
  {
   "cell_type": "code",
   "execution_count": 18,
   "metadata": {
    "_uuid": "313f11fbe1a4dcc05e88847aa71d5d21e4ee952c",
    "colab": {
     "base_uri": "https://localhost:8080/",
     "height": 1089
    },
    "colab_type": "code",
    "id": "lZqLnFTjpLB4",
    "outputId": "f988e7a0-a37f-4cd6-bb7a-4d6319f16d06"
   },
   "outputs": [
    {
     "data": {
      "image/png": "[encoded data removed]",
      "text/plain": [
       "<matplotlib.figure.Figure at 0x7f6b82684f28>"
      ]
     },
     "metadata": {
      "tags": []
     },
     "output_type": "display_data"
    }
   ],
   "source": [
    "plt.figure(figsize=(10,15))\n",
    "\n",
    "plt.subplot(3,2,1)\n",
    "plt.scatter(usvids.views, usvids.trend_day_count)\n",
    "plt.xlabel('Views')\n",
    "plt.ylabel('Trending Days Count')\n",
    "plt.title('Views VS Trending Days')\n",
    "\n",
    "plt.subplot(3,2,2)\n",
    "plt.scatter(usvids.views, usvids['trend.publish.diff'])\n",
    "plt.xlabel('Views')\n",
    "plt.ylabel('Difference Between Publish & Trend Dates')\n",
    "plt.title('Views VS Publish/Trend Difference')\n",
    "\n",
    "plt.subplot(3,2,3)\n",
    "plt.scatter(usvids.views, usvids['subscriber'])\n",
    "plt.xlabel('Views')\n",
    "plt.ylabel('Subscribers')\n",
    "plt.title('Views VS Channel Subscribers')\n",
    "\n",
    "plt.subplot(3,2,4)\n",
    "plt.scatter(usvids.views, usvids['tags_count'])\n",
    "plt.xlabel('Views')\n",
    "plt.ylabel('Tags Count')\n",
    "plt.title('Views VS Tags Count')\n",
    "\n",
    "plt.subplot(3,2,5)\n",
    "plt.scatter(usvids.views, usvids['tag_appeared_in_title_count'])\n",
    "plt.xlabel('Views')\n",
    "plt.ylabel('Tags in Title Count')\n",
    "plt.title('Views VS Tags in Title')\n",
    "\n",
    "plt.subplot(3,2,6)\n",
    "plt.scatter(usvids.views, usvids['likes'])\n",
    "plt.xlabel('Views')\n",
    "plt.ylabel('Likes')\n",
    "plt.title('Views VS Likes')\n",
    "\n",
    "plt.tight_layout()\n",
    "plt.show()"
   ]
  },
  {
   "cell_type": "markdown",
   "metadata": {
    "_uuid": "857febe7b0ef2b9e94315b9279535b2c2bf2868e",
    "colab_type": "text",
    "id": "3FJ7xsH-pLCM"
   },
   "source": [
    "**Analysis based on Visual Summary**\n",
    "\n",
    "**Views VS Trending Days.\n",
    "**\n",
    "\n",
    "The videos that had the least number of trending days also had the least number of views. Although some videos also trended from 12-14 days and still had less views than some videos which only trended 10 days. Up to a certain upper limit, more trending days correlates with more views per video.\n",
    "\n",
    "**Views VS Publish/Trend Difference**\n",
    "\n",
    "This plot is very interesting because it shows that although many videos trended after years of being published, these old-bloomers only reached a small fraction of views compared to the videos which trended sooner. It would be interesting to get a closer view in both directions and determine if there is a cutoff time after which a trending video will not get as many views. According to this graph, the days-to-trend variable is a good predictor of whether a videos will get many views. I.e. The videos that get the most views all trend very soon after their publish date.\n",
    "\n",
    "**Views VS Channel Subscribers**\n",
    "\n",
    "Trending videos get views regardless of the number of subscribers to their channel. There is a very weak correlation between the most viewed videos having the most subscribers, however.\n",
    "\n",
    "**Views VS Tags Count**\n",
    "\n",
    "The videos with the most views have a count of 5-30 tags. More tags than that doesn't help a video get more views. This answers our previous question about the outlier with 69 tags. It is clear that the video with the most tags has very few views.\n",
    "\n",
    "**Views VS Tags in Title**\n",
    "\n",
    "The most watched videos had 3-7 tags in their title. Videos with more than 7 tags in title had the fewest views, and videos with no tags in their title still managed to get a decent amount of views. More tags in title means more views untill you reach 7 tags or more.\n",
    "\n",
    "**Views VS Likes**\n",
    "\n",
    "The most watched videos also had the most likes. This makes sense because people can only hit the 'Like' button once they've started seeing a video. This variable has the strongest correlation with views of all the ones examined here.\n",
    "\n"
   ]
  },
  {
   "cell_type": "markdown",
   "metadata": {
    "_uuid": "2beb2623fc6aaf680dd9268a8510bf9c04c9cc96",
    "colab_type": "text",
    "id": "EkbkKFhtpLCb"
   },
   "source": [
    "**Question 2: What's the biggest different factor that sets apart the segment of videos whose ratings & comments were disabled by their publisher?** \n",
    "\n",
    "**Specifically...**\n",
    "\n",
    "* Do these videos get more views/tags? \n",
    "* Do they trend for more or less days? \n",
    "* Do they get more comments? \n",
    "* Do they take longer to trend, from day of publishing?\n"
   ]
  },
  {
   "cell_type": "code",
   "execution_count": 19,
   "metadata": {
    "_uuid": "023f4b71c10c85eb6bc3c4c906e0a042504e6284",
    "colab": {
     "base_uri": "https://localhost:8080/",
     "height": 221
    },
    "colab_type": "code",
    "id": "6D4Uy020pLCd",
    "outputId": "058f0873-5d0e-4f03-bfa3-77e42a12d479",
    "scrolled": false
   },
   "outputs": [
    {
     "data": {
      "text/html": [
       "<div>\n",
       "<style scoped>\n",
       "    .dataframe tbody tr th:only-of-type {\n",
       "        vertical-align: middle;\n",
       "    }\n",
       "\n",
       "    .dataframe tbody tr th {\n",
       "        vertical-align: top;\n",
       "    }\n",
       "\n",
       "    .dataframe thead tr th {\n",
       "        text-align: left;\n",
       "    }\n",
       "\n",
       "    .dataframe thead tr:last-of-type th {\n",
       "        text-align: right;\n",
       "    }\n",
       "</style>\n",
       "<table border=\"1\" class=\"dataframe\">\n",
       "  <thead>\n",
       "    <tr>\n",
       "      <th></th>\n",
       "      <th colspan=\"8\" halign=\"left\">views</th>\n",
       "      <th colspan=\"2\" halign=\"left\">tag_appeared_in_title_count</th>\n",
       "      <th>...</th>\n",
       "      <th colspan=\"2\" halign=\"left\">trend.publish.diff</th>\n",
       "      <th colspan=\"8\" halign=\"left\">comment_count</th>\n",
       "    </tr>\n",
       "    <tr>\n",
       "      <th></th>\n",
       "      <th>count</th>\n",
       "      <th>mean</th>\n",
       "      <th>std</th>\n",
       "      <th>min</th>\n",
       "      <th>25%</th>\n",
       "      <th>50%</th>\n",
       "      <th>75%</th>\n",
       "      <th>max</th>\n",
       "      <th>count</th>\n",
       "      <th>mean</th>\n",
       "      <th>...</th>\n",
       "      <th>75%</th>\n",
       "      <th>max</th>\n",
       "      <th>count</th>\n",
       "      <th>mean</th>\n",
       "      <th>std</th>\n",
       "      <th>min</th>\n",
       "      <th>25%</th>\n",
       "      <th>50%</th>\n",
       "      <th>75%</th>\n",
       "      <th>max</th>\n",
       "    </tr>\n",
       "    <tr>\n",
       "      <th>ratings_disabled</th>\n",
       "      <th></th>\n",
       "      <th></th>\n",
       "      <th></th>\n",
       "      <th></th>\n",
       "      <th></th>\n",
       "      <th></th>\n",
       "      <th></th>\n",
       "      <th></th>\n",
       "      <th></th>\n",
       "      <th></th>\n",
       "      <th></th>\n",
       "      <th></th>\n",
       "      <th></th>\n",
       "      <th></th>\n",
       "      <th></th>\n",
       "      <th></th>\n",
       "      <th></th>\n",
       "      <th></th>\n",
       "      <th></th>\n",
       "      <th></th>\n",
       "      <th></th>\n",
       "    </tr>\n",
       "  </thead>\n",
       "  <tbody>\n",
       "    <tr>\n",
       "      <th>False</th>\n",
       "      <td>4522.0</td>\n",
       "      <td>1.254778e+06</td>\n",
       "      <td>4.459278e+06</td>\n",
       "      <td>559.0</td>\n",
       "      <td>91338.75</td>\n",
       "      <td>319203.5</td>\n",
       "      <td>1007402.0</td>\n",
       "      <td>149376127.0</td>\n",
       "      <td>4522.0</td>\n",
       "      <td>2.966387</td>\n",
       "      <td>...</td>\n",
       "      <td>7.0</td>\n",
       "      <td>4215.0</td>\n",
       "      <td>4522.0</td>\n",
       "      <td>4964.130473</td>\n",
       "      <td>31185.123482</td>\n",
       "      <td>0.0</td>\n",
       "      <td>233.0</td>\n",
       "      <td>863.5</td>\n",
       "      <td>2882.5</td>\n",
       "      <td>1361580.0</td>\n",
       "    </tr>\n",
       "    <tr>\n",
       "      <th>True</th>\n",
       "      <td>25.0</td>\n",
       "      <td>3.234856e+06</td>\n",
       "      <td>1.142095e+07</td>\n",
       "      <td>2093.0</td>\n",
       "      <td>24737.00</td>\n",
       "      <td>139068.0</td>\n",
       "      <td>839375.0</td>\n",
       "      <td>56111957.0</td>\n",
       "      <td>25.0</td>\n",
       "      <td>2.040000</td>\n",
       "      <td>...</td>\n",
       "      <td>8.0</td>\n",
       "      <td>409.0</td>\n",
       "      <td>25.0</td>\n",
       "      <td>354.800000</td>\n",
       "      <td>1079.574994</td>\n",
       "      <td>0.0</td>\n",
       "      <td>0.0</td>\n",
       "      <td>0.0</td>\n",
       "      <td>70.0</td>\n",
       "      <td>5286.0</td>\n",
       "    </tr>\n",
       "  </tbody>\n",
       "</table>\n",
       "<p>2 rows × 40 columns</p>\n",
       "</div>"
      ],
      "text/plain": [
       "                   views                                                \\\n",
       "                   count          mean           std     min       25%   \n",
       "ratings_disabled                                                         \n",
       "False             4522.0  1.254778e+06  4.459278e+06   559.0  91338.75   \n",
       "True                25.0  3.234856e+06  1.142095e+07  2093.0  24737.00   \n",
       "\n",
       "                                                    \\\n",
       "                       50%        75%          max   \n",
       "ratings_disabled                                     \n",
       "False             319203.5  1007402.0  149376127.0   \n",
       "True              139068.0   839375.0   56111957.0   \n",
       "\n",
       "                 tag_appeared_in_title_count              ...      \\\n",
       "                                       count      mean    ...       \n",
       "ratings_disabled                                          ...       \n",
       "False                                 4522.0  2.966387    ...       \n",
       "True                                    25.0  2.040000    ...       \n",
       "\n",
       "                 trend.publish.diff         comment_count               \\\n",
       "                                75%     max         count         mean   \n",
       "ratings_disabled                                                         \n",
       "False                           7.0  4215.0        4522.0  4964.130473   \n",
       "True                            8.0   409.0          25.0   354.800000   \n",
       "\n",
       "                                                                      \n",
       "                           std  min    25%    50%     75%        max  \n",
       "ratings_disabled                                                      \n",
       "False             31185.123482  0.0  233.0  863.5  2882.5  1361580.0  \n",
       "True               1079.574994  0.0    0.0    0.0    70.0     5286.0  \n",
       "\n",
       "[2 rows x 40 columns]"
      ]
     },
     "execution_count": 19,
     "metadata": {
      "tags": []
     },
     "output_type": "execute_result"
    }
   ],
   "source": [
    "# We'll divide out dataset by wether the videos had their ratings disabled or not.\n",
    "# We'll get a statistical summary of the relevant columns.\n",
    "usvids.groupby('ratings_disabled').describe()[['views','tag_appeared_in_title_count','trend_day_count','trend.publish.diff','comment_count']]"
   ]
  },
  {
   "cell_type": "code",
   "execution_count": 20,
   "metadata": {
    "_uuid": "7ba8d348544b45bbc4a8993ef0985485db382323",
    "colab": {
     "base_uri": "https://localhost:8080/",
     "height": 221
    },
    "colab_type": "code",
    "id": "o0HhaN7OpLCk",
    "outputId": "39575197-1884-4101-b8c2-1d70d3a88dc4",
    "scrolled": false
   },
   "outputs": [
    {
     "data": {
      "text/html": [
       "<div>\n",
       "<style scoped>\n",
       "    .dataframe tbody tr th:only-of-type {\n",
       "        vertical-align: middle;\n",
       "    }\n",
       "\n",
       "    .dataframe tbody tr th {\n",
       "        vertical-align: top;\n",
       "    }\n",
       "\n",
       "    .dataframe thead tr th {\n",
       "        text-align: left;\n",
       "    }\n",
       "\n",
       "    .dataframe thead tr:last-of-type th {\n",
       "        text-align: right;\n",
       "    }\n",
       "</style>\n",
       "<table border=\"1\" class=\"dataframe\">\n",
       "  <thead>\n",
       "    <tr>\n",
       "      <th></th>\n",
       "      <th colspan=\"8\" halign=\"left\">views</th>\n",
       "      <th colspan=\"2\" halign=\"left\">likes</th>\n",
       "      <th>...</th>\n",
       "      <th colspan=\"2\" halign=\"left\">trend_day_count</th>\n",
       "      <th colspan=\"8\" halign=\"left\">trend.publish.diff</th>\n",
       "    </tr>\n",
       "    <tr>\n",
       "      <th></th>\n",
       "      <th>count</th>\n",
       "      <th>mean</th>\n",
       "      <th>std</th>\n",
       "      <th>min</th>\n",
       "      <th>25%</th>\n",
       "      <th>50%</th>\n",
       "      <th>75%</th>\n",
       "      <th>max</th>\n",
       "      <th>count</th>\n",
       "      <th>mean</th>\n",
       "      <th>...</th>\n",
       "      <th>75%</th>\n",
       "      <th>max</th>\n",
       "      <th>count</th>\n",
       "      <th>mean</th>\n",
       "      <th>std</th>\n",
       "      <th>min</th>\n",
       "      <th>25%</th>\n",
       "      <th>50%</th>\n",
       "      <th>75%</th>\n",
       "      <th>max</th>\n",
       "    </tr>\n",
       "    <tr>\n",
       "      <th>comments_disabled</th>\n",
       "      <th></th>\n",
       "      <th></th>\n",
       "      <th></th>\n",
       "      <th></th>\n",
       "      <th></th>\n",
       "      <th></th>\n",
       "      <th></th>\n",
       "      <th></th>\n",
       "      <th></th>\n",
       "      <th></th>\n",
       "      <th></th>\n",
       "      <th></th>\n",
       "      <th></th>\n",
       "      <th></th>\n",
       "      <th></th>\n",
       "      <th></th>\n",
       "      <th></th>\n",
       "      <th></th>\n",
       "      <th></th>\n",
       "      <th></th>\n",
       "      <th></th>\n",
       "    </tr>\n",
       "  </thead>\n",
       "  <tbody>\n",
       "    <tr>\n",
       "      <th>False</th>\n",
       "      <td>4471.0</td>\n",
       "      <td>1.258650e+06</td>\n",
       "      <td>4.481281e+06</td>\n",
       "      <td>559.0</td>\n",
       "      <td>92535.5</td>\n",
       "      <td>320792.0</td>\n",
       "      <td>1010413.0</td>\n",
       "      <td>149376127.0</td>\n",
       "      <td>4471.0</td>\n",
       "      <td>39701.713711</td>\n",
       "      <td>...</td>\n",
       "      <td>7.0</td>\n",
       "      <td>14.0</td>\n",
       "      <td>4471.0</td>\n",
       "      <td>34.619996</td>\n",
       "      <td>249.211745</td>\n",
       "      <td>0.0</td>\n",
       "      <td>5.0</td>\n",
       "      <td>6.0</td>\n",
       "      <td>7.0</td>\n",
       "      <td>4215.0</td>\n",
       "    </tr>\n",
       "    <tr>\n",
       "      <th>True</th>\n",
       "      <td>76.0</td>\n",
       "      <td>1.678329e+06</td>\n",
       "      <td>6.682966e+06</td>\n",
       "      <td>748.0</td>\n",
       "      <td>23921.5</td>\n",
       "      <td>149300.0</td>\n",
       "      <td>862810.5</td>\n",
       "      <td>56111957.0</td>\n",
       "      <td>76.0</td>\n",
       "      <td>9502.815789</td>\n",
       "      <td>...</td>\n",
       "      <td>7.0</td>\n",
       "      <td>13.0</td>\n",
       "      <td>76.0</td>\n",
       "      <td>23.250000</td>\n",
       "      <td>108.160390</td>\n",
       "      <td>1.0</td>\n",
       "      <td>5.0</td>\n",
       "      <td>6.0</td>\n",
       "      <td>8.0</td>\n",
       "      <td>864.0</td>\n",
       "    </tr>\n",
       "  </tbody>\n",
       "</table>\n",
       "<p>2 rows × 48 columns</p>\n",
       "</div>"
      ],
      "text/plain": [
       "                    views                                              \\\n",
       "                    count          mean           std    min      25%   \n",
       "comments_disabled                                                       \n",
       "False              4471.0  1.258650e+06  4.481281e+06  559.0  92535.5   \n",
       "True                 76.0  1.678329e+06  6.682966e+06  748.0  23921.5   \n",
       "\n",
       "                                                      likes                \\\n",
       "                        50%        75%          max   count          mean   \n",
       "comments_disabled                                                           \n",
       "False              320792.0  1010413.0  149376127.0  4471.0  39701.713711   \n",
       "True               149300.0   862810.5   56111957.0    76.0   9502.815789   \n",
       "\n",
       "                    ...   trend_day_count       trend.publish.diff             \\\n",
       "                    ...               75%   max              count       mean   \n",
       "comments_disabled   ...                                                         \n",
       "False               ...               7.0  14.0             4471.0  34.619996   \n",
       "True                ...               7.0  13.0               76.0  23.250000   \n",
       "\n",
       "                                                           \n",
       "                          std  min  25%  50%  75%     max  \n",
       "comments_disabled                                          \n",
       "False              249.211745  0.0  5.0  6.0  7.0  4215.0  \n",
       "True               108.160390  1.0  5.0  6.0  8.0   864.0  \n",
       "\n",
       "[2 rows x 48 columns]"
      ]
     },
     "execution_count": 20,
     "metadata": {
      "tags": []
     },
     "output_type": "execute_result"
    }
   ],
   "source": [
    "# We'll divide out dataset by wether the videos had their comments disabled or not.\n",
    "# We'll get a statistical summary of the relevant columns.\n",
    "usvids.groupby('comments_disabled').describe()[['views','likes','dislikes','tag_appeared_in_title_count','trend_day_count','trend.publish.diff']]"
   ]
  },
  {
   "cell_type": "markdown",
   "metadata": {
    "_uuid": "319c2b1593b0da575fa44c463d2f4469d5799e08",
    "colab_type": "text",
    "id": "QrNMPOA4pLCq"
   },
   "source": [
    "**Observations:** \n",
    "\n",
    "Based on the dataframes above...\n",
    "\n",
    "\n",
    "**Videos with their ratings disabled had, in average:** Twice the number of views, less tags appearing in their title, and trended for more days than their counterparts. But they took slightly longer to trend and had considerably less comments than their counterparts.\n",
    "\n",
    "**Videos with their comments disabled had, in average:** More views than their counterparts, only by a small margin. Four-times less likes than their counterparts. Surprisingly, they also have less dislikes. Less tags appeared in their titles, they trended for longer, and trended way quicker from their publishing date, than their counterparts.\n",
    "\n",
    "**Analysis:**\n",
    "\n",
    "**Videos with their ratings disabled.**\n",
    "\n",
    "The most surprising fact is that these videos had an average number of views more than twice the average views for all other videos. \n",
    "\n",
    "*ratings enabled: 1,254,778 average views*\n",
    " \n",
    "*ratings disabled: 3,234,856 average views*\n",
    "\n",
    "However, the sample size of this category is only 25 videos, compared to 4522 for the rest. Therefore, there is a high risk of bias since this average is coming from a very small sample. The standard deviation is also small, but the small count might also be making this calculation less trustworthy. \n",
    "\n",
    "To deal with this uncertainty, we could apply some statistical analysis. On one hand, the higher number of views could be due to a concrete difference between these two groups of videos. This would suggest that there is a commonality in the videos which got their ratings disabled, which usually results in a larger view count. On the other hand, the higher number of views could be due to the mere coincidence, therefore not having statistical significance. A good way to investigate this uncertainty would be by applying the principles of the Central Limit Theorem and performing a T-Test and looking at the P-Value, to assess the likelihood that this mean difference would be the result of an actual difference in the population.\n",
    "\n",
    "\n",
    "**Videos with their comments disabled.**\n",
    "\n",
    "I was expecting to see these videos have more dislikes, since controversial content could draw more negative attention and this could be a good reason for publishers to block comments. Maybe there are other reasons for them doing this. However, these videos also got less likes by 4:1. So for some weird reason, people are watching these videos at a higher than average rate than their counterparts, but they are not engaging with them as much. (If we measure engagement by the number of likes, dislikes or comments). This can also be said about the videos with ratings disabled, which had significantly less comments. Contrary to my expectation, it seems like disabling ratings results in less comments, and disabling comments results in less ratings. Perhaps people are habituated to have both engagement avenues at their disposal and being denied either of them leads them to engaging less with the one that's left available. Could we prove this statistically?\n"
   ]
  },
  {
   "cell_type": "code",
   "execution_count": 21,
   "metadata": {
    "_uuid": "36304fdc1c0e448cc8f0dc05edde1189b41bd467",
    "colab": {
     "base_uri": "https://localhost:8080/",
     "height": 729
    },
    "colab_type": "code",
    "id": "fUZ8HQfYpLCs",
    "outputId": "972bf775-59b7-4381-a5aa-40a5e8933b07"
   },
   "outputs": [
    {
     "data": {
      "image/png": "[encoded data removed]",
      "text/plain": [
       "<matplotlib.figure.Figure at 0x7f6b7e4098d0>"
      ]
     },
     "metadata": {
      "tags": []
     },
     "output_type": "display_data"
    }
   ],
   "source": [
    "plt.figure(figsize=(20,20))\n",
    "\n",
    "plt.subplot(2,2,1)\n",
    "usvids.groupby('ratings_disabled').agg(np.mean)['views'].plot(kind='bar',figsize=(10,10))\n",
    "plt.title('Average Views- Ratings Disabled')\n",
    "\n",
    "plt.subplot(2,2,2)\n",
    "usvids.groupby('ratings_disabled').agg(np.mean)['comment_count'].plot(kind='bar',figsize=(10,10))\n",
    "plt.title('Average Comments- Ratings Disabled')\n",
    "\n",
    "plt.subplot(2,2,3)\n",
    "usvids.groupby('comments_disabled').agg(np.mean)['likes'].plot(kind='bar',figsize=(10,10),color=['red','green'])\n",
    "plt.title('Average Likes- Comments Disabled')\n",
    "\n",
    "plt.subplot(2,2,4)\n",
    "usvids.groupby('comments_disabled').agg(np.mean)['dislikes'].plot(kind='bar',figsize=(10,10),color=['red','green'])\n",
    "plt.title('Average Dislikes- Comments Disabled')\n",
    "\n",
    "plt.tight_layout()\n",
    "plt.show()\n"
   ]
  },
  {
   "cell_type": "markdown",
   "metadata": {
    "_uuid": "3d4e931f242fdce79445c6f19e471a6b934a7ccd",
    "colab_type": "text",
    "id": "2wGI0_MrpLCx"
   },
   "source": [
    "**Question 2.2: Do videos with ratings disabled statistically different from their counterparts?** I.e. Do they really get twice the number of views?"
   ]
  },
  {
   "cell_type": "code",
   "execution_count": 22,
   "metadata": {
    "_uuid": "57dbcfa2c49b71e5e9817f7dd228a827b725c934",
    "colab": {
     "base_uri": "https://localhost:8080/",
     "height": 35
    },
    "colab_type": "code",
    "id": "nkxkU6i9pLCy",
    "outputId": "afeb4ed8-3514-4da7-e840-96aea5c4fa69"
   },
   "outputs": [
    {
     "data": {
      "text/plain": [
       "Ttest_indResult(statistic=1.4094641992052217, pvalue=0.17145653730660942)"
      ]
     },
     "execution_count": 22,
     "metadata": {
      "tags": []
     },
     "output_type": "execute_result"
    }
   ],
   "source": [
    "# Perform T-Test and find P-Value\n",
    "# Apply the natural logarithm to normalize the distributions\n",
    "rat_dis = np.log(usvids[usvids.ratings_disabled == True].views)\n",
    "rat_en = np.log(usvids[usvids.ratings_disabled == False].views)\n",
    "from scipy.stats import ttest_ind\n",
    "ttest_ind(rat_en, rat_dis, equal_var=False)"
   ]
  },
  {
   "cell_type": "markdown",
   "metadata": {
    "_uuid": "64ef887e7f48544b23ed4cc89ce88feaa171dcc2",
    "colab_type": "text",
    "id": "BAufuXOjpLC4"
   },
   "source": [
    "**T-Test Analysis:**\n",
    "\n",
    "The t-value of mean views between videos with disabled and enabled ratings is 1.40. This tells us that the difference between the means is 1.40 times greater than the combined standard error of the samples. Values closer to zero indicate the difference is most likely coincidental. At 1.40, their difference is mildly beyond the standard error, which is very inconclusive. However, we have a p-value of 0.171. It is conventionally accepted that a p-value of 0.05 is the cutoff for statistical significance, with higher values suggesting the null hypothesis. At 0.171, the p-value is bordering the margin for significance, but it is not close enough to be conclusive.\n",
    "\n",
    "**Conclusion:** We can conclude that although our samples had a large difference between their mean views, there is no conclusive difference between these videos. However, the T and P-Values do suggest a strong trend in that direction. \n",
    "\n",
    "**Understanding the T-test in the Context of this Dataset:**\n",
    "\n",
    "The application of the T-Value test to these samples could serve as an inference for the total population of videos in Youtube. Namely, this would give us a hint to determine if the rest of the videos in Youtube that aren't in this dataset would follow the assumption that: \"Videos with ratings disabled usually get twice the number of views as videos with ratings enabled.\" \n",
    "\n",
    "However, the limitations of this calculation would also be biased by the fact that this sample only contains the Youtube videos that Youtube determined were trending during a given year. Therefore, Youtube's total video population might be vastly different than this sample of trending videos. In other words, this dataset might not be representative of the whole of Youtube's content.\n",
    "\n",
    "**Question 2.3: What can the distributions of these groups tell us about their mean differences?**"
   ]
  },
  {
   "cell_type": "code",
   "execution_count": 23,
   "metadata": {
    "_uuid": "46af6271345b4eec6c9d2ca5f4726208bbd4369c",
    "colab": {
     "base_uri": "https://localhost:8080/",
     "height": 369
    },
    "colab_type": "code",
    "id": "SFIIQwoUpLDQ",
    "outputId": "6c315ea1-3482-4b24-e369-f986241ab44b"
   },
   "outputs": [
    {
     "data": {
      "image/png": "[encoded data removed]",
      "text/plain": [
       "<matplotlib.figure.Figure at 0x7f6b7e3d1710>"
      ]
     },
     "metadata": {
      "tags": []
     },
     "output_type": "display_data"
    }
   ],
   "source": [
    "plt.figure(figsize=(12,5))\n",
    "\n",
    "plt.subplot(1,2,1)\n",
    "plt.hist(usvids[usvids.ratings_disabled].views,range=(1,16000000),bins=30)\n",
    "plt.axvline(np.mean(usvids[usvids.ratings_disabled].views),color='red')\n",
    "plt.title('Distribution of Views in Videos with Ratings Disabled')\n",
    "plt.xticks(rotation=90)\n",
    "\n",
    "plt.subplot(1,2,2)\n",
    "plt.hist(usvids[~usvids.ratings_disabled].views,range=(1,7000000),color='green',bins=30)\n",
    "plt.title('Distribution of Views in Videos with Ratings Enabled')\n",
    "plt.axvline(np.mean(usvids[~usvids.ratings_disabled].views),color='red')\n",
    "plt.xticks(rotation=90)\n",
    "\n",
    "\n",
    "plt.tight_layout()\n",
    "plt.show()"
   ]
  },
  {
   "cell_type": "markdown",
   "metadata": {
    "_uuid": "a69ddbbdf1f9a84a75003d8a03e0bd561cf23202",
    "colab_type": "text",
    "id": "hXL61nf5pLDW"
   },
   "source": [
    "**Answer:**\n",
    "\n",
    "Clearly there are two outliers in the videos with ratings disabled, one of which is skewing the mean views to a point far above the rest. Without the outlier, the mean would surely correlate more with the other segment of videos with ratings enabled."
   ]
  },
  {
   "cell_type": "markdown",
   "metadata": {
    "_uuid": "89b03286c22d5344bc192826e8d3fc35948bf36a",
    "colab_type": "text",
    "id": "Cz5gbXQ5pLDZ"
   },
   "source": [
    "**Question 3: What were the most popular dates to publish videos?**\n"
   ]
  },
  {
   "cell_type": "code",
   "execution_count": 24,
   "metadata": {
    "_uuid": "405d1ee2e001354e59cec530795c1db76046ba8d",
    "colab": {
     "base_uri": "https://localhost:8080/",
     "height": 441
    },
    "colab_type": "code",
    "id": "2mQfUxKspLDl",
    "outputId": "94bcc223-e092-4848-bb99-f98b9baeba07"
   },
   "outputs": [
    {
     "data": {
      "image/png": "[encoded data removed]",
      "text/plain": [
       "<matplotlib.figure.Figure at 0x7f6b8273d160>"
      ]
     },
     "metadata": {
      "tags": []
     },
     "output_type": "display_data"
    }
   ],
   "source": [
    "usvids.publish_date = pd.to_datetime(usvids.publish_date)\n",
    "# Let's plot these dates\n",
    "pop_dates = usvids['publish_date'].value_counts().sort_index()\n",
    "pop_dates = pop_dates[pop_dates.index > '2017-11-01']\n",
    "\n",
    "plt.figure(figsize=(12,6))\n",
    "\n",
    "plt.plot(pop_dates.index,pop_dates.values, color='red')\n",
    "plt.xticks(rotation=90)\n",
    "plt.title('Youtube\\'s Trending Video Count by Date Published')\n",
    "plt.axvline('2017-12-25',linestyle='dashed')\n",
    "plt.axvline('2018-02-14',linestyle='dashed')\n",
    "plt.text('2018-02-15',65,\"Valentine's 2018\",rotation=90)\n",
    "plt.text('2017-12-26',65,\"Christmas 2017\",rotation=90)\n",
    "\n",
    "plt.tight_layout()\n",
    "plt.show()"
   ]
  },
  {
   "cell_type": "code",
   "execution_count": 25,
   "metadata": {
    "_uuid": "3c9e8e0fb1aa90b8c43307727c6f668afcdfda0d",
    "colab": {
     "base_uri": "https://localhost:8080/",
     "height": 211
    },
    "colab_type": "code",
    "id": "V_1AFoYEpLDp",
    "outputId": "fb591c33-141f-4979-f955-e8c74d96c9f1",
    "scrolled": true
   },
   "outputs": [
    {
     "name": "stdout",
     "output_type": "stream",
     "text": [
      "2018-02-05    71\n",
      "2017-12-13    70\n",
      "2017-12-12    67\n",
      "2018-01-29    66\n",
      "2017-11-15    62\n",
      "2018-01-26    61\n",
      "2017-11-28    60\n",
      "2017-11-21    60\n",
      "2018-01-16    59\n",
      "2017-12-05    59\n",
      "Name: publish_date, dtype: int64\n"
     ]
    }
   ],
   "source": [
    "# Let's see the most recurring publishing dates\n",
    "print(usvids['publish_date'].value_counts().head(10))\n"
   ]
  },
  {
   "cell_type": "markdown",
   "metadata": {
    "_uuid": "3cdc76ff3792b4df680b05421200dd81d85be7a9",
    "colab_type": "text",
    "id": "4NnODOJMpLDv"
   },
   "source": [
    "**Answer:\n",
    "**\n",
    "\n",
    "* The most videos published in the same date were from February 5th, 2018. Could this have been in anticipation to Valentine's day?\n",
    "* The second and third most popular days for video publishers were about two weeks before Christmas. Could we verify if these videos had a seasonal theme?\n",
    "* The 2 most repeated last trending dates are a few days after Valentine's Day and the Christmas/New Year's holiday combo. These could be the same large number of videos that were published before these dates.\n",
    "\n",
    "\n",
    "\n",
    "**Question 3.2: Are the videos from the most popular publishing dates getting more views than the videos from low upload rate seasons?**\n",
    "\n",
    "**Hypothesis:**\n",
    "\n",
    "Based on the timeline above, there are two well-defined seasons in which more videos are uploaded to Youtube. They are both followed by periods of low upload rates. If we analyze the views attributed to videos based on their publish date, we might have a better understanding of this trend. If people publish more videos in certain seasons than others, perhaps this correlates with when people are watchin more videos. After all, views are what video publishers are after. If we assume that the trending videos in this dataset were created by professional Youtubers who are trying to maximize their channel's views and profits, then we should also assume that the periods when they are more active are also the periods when they are getting more views as reward for their work. \n"
   ]
  },
  {
   "cell_type": "code",
   "execution_count": 26,
   "metadata": {
    "_uuid": "32eec8dcf2d8a442be092f02e94602f89cbe7b6c",
    "colab": {
     "base_uri": "https://localhost:8080/",
     "height": 441
    },
    "colab_type": "code",
    "id": "NEwZCVUXpLDy",
    "outputId": "5addb622-e4af-44a7-cff7-fd801b40b910"
   },
   "outputs": [
    {
     "data": {
      "image/png": "[encoded data removed]",
      "text/plain": [
       "<matplotlib.figure.Figure at 0x7f6b7e3ab3c8>"
      ]
     },
     "metadata": {
      "tags": []
     },
     "output_type": "display_data"
    }
   ],
   "source": [
    "#Let's visualize views by publish date of trending videos\n",
    "dates_views = usvids.groupby('publish_date').agg(np.mean).sort_values('views',ascending=False).views.sort_index()\n",
    "dates_views = dates_views[dates_views.index > '2017-11-01']\n",
    "plt.figure(figsize=(12,6))\n",
    "\n",
    "plt.plot(dates_views.index,dates_views.values, color='red')\n",
    "plt.xticks(rotation=90)\n",
    "plt.title('Youtube\\'s Trending Video Views by Video Publish Date')\n",
    "plt.axvline('2017-12-25',linestyle='dashed')\n",
    "plt.axvline('2018-02-14',linestyle='dashed')\n",
    "plt.text('2018-02-15',5000000,\"Valentine's\",rotation=90)\n",
    "plt.text('2017-12-26',5000000,\"Christmas\",rotation=90)\n",
    "\n",
    "\n",
    "plt.tight_layout()\n",
    "plt.show()"
   ]
  },
  {
   "cell_type": "code",
   "execution_count": 27,
   "metadata": {
    "_uuid": "b1d6291338ff8960e88c66a77453d7f2fdf22286",
    "colab": {
     "base_uri": "https://localhost:8080/",
     "height": 140
    },
    "colab_type": "code",
    "id": "mbfIT1vhpLD5",
    "outputId": "72dbc7af-ad98-4bb0-f1ea-a798a75e3eaf"
   },
   "outputs": [
    {
     "data": {
      "text/plain": [
       "publish_date\n",
       "2018-02-04    5.360935e+06\n",
       "2017-12-24    4.514713e+06\n",
       "2017-11-18    3.515628e+06\n",
       "2017-12-03    3.453279e+06\n",
       "2017-12-06    3.028438e+06\n",
       "Name: views, dtype: float64"
      ]
     },
     "execution_count": 27,
     "metadata": {
      "tags": []
     },
     "output_type": "execute_result"
    }
   ],
   "source": [
    "# let's list the publishing dates with the highest number of views\n",
    "dates_views.sort_values(ascending=False).head()"
   ]
  },
  {
   "cell_type": "markdown",
   "metadata": {
    "_uuid": "91ab62e6d1b0f2cbfbaa46ec2f2374ad58cd525d",
    "colab_type": "text",
    "id": "pIqvZoAOpLD-"
   },
   "source": [
    "**Answer:**\n",
    "Indeed, the videos published during the high-upload rate periods received a higher mean number of views. Trending videos published on the 5th of Feb, 2018 received an average of 5.3 million views. Videos published on December 24th, 2017 received 4.5 million views in average."
   ]
  },
  {
   "cell_type": "markdown",
   "metadata": {
    "_uuid": "691ef0e0c9612ca95b5672ae80ab509599cb1c6d",
    "colab_type": "text",
    "id": "CH8XsezvpLEA"
   },
   "source": [
    "**Question 4: What are the Most Popular Tags in Trending Videos?**"
   ]
  },
  {
   "cell_type": "code",
   "execution_count": 28,
   "metadata": {
    "_uuid": "6ceac036b9c9c408498bee252bcdc76750635355",
    "colab": {
     "base_uri": "https://localhost:8080/",
     "height": 585
    },
    "colab_type": "code",
    "id": "UL8cw96xpLEE",
    "outputId": "fe26dd15-425f-45d7-e38a-4c5a2e043e2f"
   },
   "outputs": [
    {
     "data": {
      "image/png": "[encoded data removed]",
      "text/plain": [
       "<matplotlib.figure.Figure at 0x7f6b7d38cf60>"
      ]
     },
     "metadata": {
      "tags": []
     },
     "output_type": "display_data"
    }
   ],
   "source": [
    "# separate each word in the tags column and add them onto a list of strings\n",
    "# first split by '|' and send to a list.\n",
    "tags = usvids.tags.str.split('|').tolist()\n",
    "# then get rid of anything that isn't a list\n",
    "tags = [x for x in tags if type(x) == list]\n",
    "\n",
    "# that gave us a list of lists (of strings), so we must separate the items in each \n",
    "tags2 = []\n",
    "tags3 = []\n",
    "for item in tags:\n",
    "    for string in item:\n",
    "        # get rid of numbers and other types\n",
    "        if type(string) == str:\n",
    "            tags2.append(string)\n",
    "\n",
    "def meaningless(x):\n",
    "    words = ['to','the','a','of','and','on','in','for','is','&','with','you','video']\n",
    "    return x in words\n",
    "\n",
    "# now let's split these strings by the spaces between words\n",
    "for multiple in tags2:\n",
    "    singles = multiple.split()\n",
    "    # then let's add these cleaned tags to the final list\n",
    "    for tag in singles:\n",
    "        # now let's make everything lowercase and get rid of spaces\n",
    "        tag = tag.strip()\n",
    "        tag = tag.lower()\n",
    "        # now let's remove the meaningless tags   \n",
    "        if not meaningless(tag):\n",
    "            tags3.append(tag)\n",
    "\n",
    "# let's bring that into a dataframe\n",
    "tagsdf = pd.DataFrame(tags3,columns=['tags'])\n",
    "# then count the values\n",
    "tagcounts = tagsdf.tags.value_counts()\n",
    "\n",
    "# now preparing a bar chart representing the top values\n",
    "tagcountslice = tagcounts[:30].sort_values()\n",
    "tagcountslice.plot(kind='barh',title='Most Popular Tags in Trending Videos',grid=True,fontsize=12,figsize=(11,8))\n",
    "plt.xlabel('In How Many Videos the Tag Occurred')\n",
    "\n",
    "plt.tight_layout()\n",
    "plt.show()"
   ]
  },
  {
   "cell_type": "markdown",
   "metadata": {
    "_uuid": "1647994d9a77823831dcfd454fbca7ae42da568d",
    "colab_type": "text",
    "id": "bONPSfX4pLEI"
   },
   "source": [
    "**Question 4.1: Which tags received the most views?**\n",
    "\n",
    "To answer this question, for each tag we will count the views in every video where it appears. Since videos usually have more than one tag, their views will count toward each of the tags."
   ]
  },
  {
   "cell_type": "code",
   "execution_count": 29,
   "metadata": {
    "_uuid": "dbeddd48b653bf6c7e43c655c49b6d383b939829",
    "colab": {
     "base_uri": "https://localhost:8080/",
     "height": 125
    },
    "colab_type": "code",
    "id": "2LZqUNMGpLEK",
    "outputId": "b3067daf-13b0-407c-9469-b7f017ada6a3"
   },
   "outputs": [
    {
     "data": {
      "text/plain": [
       "['shantell martin',\n",
       " 'last week tonight trump presidency last week tonight donald trump john oliver trump donald trump',\n",
       " \"racist superman rudy mancuso king bach racist superman love rudy mancuso poo bear black white official music video iphone x by pineapple lelepons hannahstocking rudymancuso inanna anwar sarkis shots shotsstudios alesso anitta brazil getting my driver's license lele pons\",\n",
       " 'rhett and link gmm good mythical morning rhett and link good mythical morning good mythical morning rhett and link mythical morning season 12 nickelback lyrics nickelback lyrics real or fake nickelback nickelback songs nickelback song rhett link nickelback gmm nickelback lyrics  website category  nickelback  musical group  rock music lyrics chad kroeger music  industry  mythical gmm challenge comedy funny the betrayal the betrayal act iii how you remind me',\n",
       " 'ryan higa higatv nigahiga i dare you idy rhpc dares no truth comments comedy funny stupid fail']"
      ]
     },
     "execution_count": 29,
     "metadata": {
      "tags": []
     },
     "output_type": "execute_result"
    }
   ],
   "source": [
    "# clean raw tags for each video and append them to a new list\n",
    "# make another list with the views of each video\n",
    "cleantagslist = []\n",
    "tagsviews = []\n",
    "count = 0\n",
    "for rawtags in usvids.tags:\n",
    "    try:\n",
    "        cleantags = \" \".join(\" \".join(\" \".join(\" \".join(rawtags.split('|')).split()).split('(')).split(')')).strip().lower()\n",
    "        cleantagslist.append(cleantags)\n",
    "               \n",
    "        count += 1\n",
    "        tagsviews.append(usvids.views[count-1])\n",
    "    except:\n",
    "        ValueError\n",
    "# let's show the cleaned tags for the first 5 videos\n",
    "cleantagslist[:5]"
   ]
  },
  {
   "cell_type": "code",
   "execution_count": 30,
   "metadata": {
    "_uuid": "40ab7f45420f3f0b90053a392e375b80f0e7c45f",
    "colab": {
     "base_uri": "https://localhost:8080/",
     "height": 203
    },
    "colab_type": "code",
    "id": "8AEoCThfpLEO",
    "outputId": "25275301-6b26-4d88-9518-db8e9abecb48",
    "scrolled": true
   },
   "outputs": [
    {
     "data": {
      "text/html": [
       "<div>\n",
       "<style scoped>\n",
       "    .dataframe tbody tr th:only-of-type {\n",
       "        vertical-align: middle;\n",
       "    }\n",
       "\n",
       "    .dataframe tbody tr th {\n",
       "        vertical-align: top;\n",
       "    }\n",
       "\n",
       "    .dataframe thead th {\n",
       "        text-align: right;\n",
       "    }\n",
       "</style>\n",
       "<table border=\"1\" class=\"dataframe\">\n",
       "  <thead>\n",
       "    <tr style=\"text-align: right;\">\n",
       "      <th></th>\n",
       "      <th>tags</th>\n",
       "      <th>views</th>\n",
       "    </tr>\n",
       "  </thead>\n",
       "  <tbody>\n",
       "    <tr>\n",
       "      <th>0</th>\n",
       "      <td>shantell martin</td>\n",
       "      <td>2564903</td>\n",
       "    </tr>\n",
       "    <tr>\n",
       "      <th>1</th>\n",
       "      <td>last week tonight trump presidency last week t...</td>\n",
       "      <td>6109402</td>\n",
       "    </tr>\n",
       "    <tr>\n",
       "      <th>2</th>\n",
       "      <td>racist superman rudy mancuso king bach racist ...</td>\n",
       "      <td>5315471</td>\n",
       "    </tr>\n",
       "    <tr>\n",
       "      <th>3</th>\n",
       "      <td>rhett and link gmm good mythical morning rhett...</td>\n",
       "      <td>913268</td>\n",
       "    </tr>\n",
       "    <tr>\n",
       "      <th>4</th>\n",
       "      <td>ryan higa higatv nigahiga i dare you idy rhpc ...</td>\n",
       "      <td>2819118</td>\n",
       "    </tr>\n",
       "  </tbody>\n",
       "</table>\n",
       "</div>"
      ],
      "text/plain": [
       "                                                tags    views\n",
       "0                                    shantell martin  2564903\n",
       "1  last week tonight trump presidency last week t...  6109402\n",
       "2  racist superman rudy mancuso king bach racist ...  5315471\n",
       "3  rhett and link gmm good mythical morning rhett...   913268\n",
       "4  ryan higa higatv nigahiga i dare you idy rhpc ...  2819118"
      ]
     },
     "execution_count": 30,
     "metadata": {
      "tags": []
     },
     "output_type": "execute_result"
    }
   ],
   "source": [
    "# create a dataframe containing each video's cleaned tags and views\n",
    "cleantagsdf = pd.DataFrame(columns=['tags','views'])\n",
    "cleantagsdf['tags'] = cleantagslist\n",
    "cleantagsdf['views'] = tagsviews\n",
    "# now we have those cleaned tags in a dataframe along with their video views\n",
    "cleantagsdf.head()"
   ]
  },
  {
   "cell_type": "code",
   "execution_count": 31,
   "metadata": {
    "_uuid": "c6e9292705a28f0f8e5007df2efcf990f1724fb5",
    "colab": {
     "base_uri": "https://localhost:8080/",
     "height": 203
    },
    "colab_type": "code",
    "id": "Ue4fZS1LpLES",
    "outputId": "2f84133b-5335-4b1d-9597-7b8038f76d26"
   },
   "outputs": [
    {
     "data": {
      "text/html": [
       "<div>\n",
       "<style scoped>\n",
       "    .dataframe tbody tr th:only-of-type {\n",
       "        vertical-align: middle;\n",
       "    }\n",
       "\n",
       "    .dataframe tbody tr th {\n",
       "        vertical-align: top;\n",
       "    }\n",
       "\n",
       "    .dataframe thead th {\n",
       "        text-align: right;\n",
       "    }\n",
       "</style>\n",
       "<table border=\"1\" class=\"dataframe\">\n",
       "  <thead>\n",
       "    <tr style=\"text-align: right;\">\n",
       "      <th></th>\n",
       "      <th>views</th>\n",
       "    </tr>\n",
       "  </thead>\n",
       "  <tbody>\n",
       "    <tr>\n",
       "      <th>show</th>\n",
       "      <td>0</td>\n",
       "    </tr>\n",
       "    <tr>\n",
       "      <th>news</th>\n",
       "      <td>0</td>\n",
       "    </tr>\n",
       "    <tr>\n",
       "      <th>funny</th>\n",
       "      <td>0</td>\n",
       "    </tr>\n",
       "    <tr>\n",
       "      <th>new</th>\n",
       "      <td>0</td>\n",
       "    </tr>\n",
       "    <tr>\n",
       "      <th>how</th>\n",
       "      <td>0</td>\n",
       "    </tr>\n",
       "  </tbody>\n",
       "</table>\n",
       "</div>"
      ],
      "text/plain": [
       "       views\n",
       "show       0\n",
       "news       0\n",
       "funny      0\n",
       "new        0\n",
       "how        0"
      ]
     },
     "execution_count": 31,
     "metadata": {
      "tags": []
     },
     "output_type": "execute_result"
    }
   ],
   "source": [
    "# make a list of unique tags. no repeated tags. no meaningless words\n",
    "df = pd.DataFrame(\" \".join(cleantagslist).split(),columns=['tags'])\n",
    "uniquetagslist = df.tags.value_counts().keys()\n",
    "uniquetagslist = [tag for tag in uniquetagslist if not meaningless(tag)]\n",
    "\n",
    "# make a dataframe with each unique tag as the index and zeros on the 'views' column\n",
    "# we will use this dataframe to count the views for each unique tag\n",
    "tagsviewsdf = pd.DataFrame(index=uniquetagslist,columns=['views'])\n",
    "tagsviewsdf = tagsviewsdf.views.fillna(0)\n",
    "tagsviewsdf = pd.DataFrame(tagsviewsdf)\n",
    "\n",
    "# show the dataframe where we'll count the views for each tag\n",
    "tagsviewsdf.head()"
   ]
  },
  {
   "cell_type": "code",
   "execution_count": 34,
   "metadata": {
    "_uuid": "390d5e10e2b9076c2d2dff53fd1534a950b3c240",
    "colab": {
     "base_uri": "https://localhost:8080/",
     "height": 203
    },
    "colab_type": "code",
    "id": "85WjhwjvpLEZ",
    "outputId": "61e9b60e-9466-4637-d17c-bf8f37f3597b",
    "scrolled": true
   },
   "outputs": [
    {
     "data": {
      "text/html": [
       "<div>\n",
       "<style scoped>\n",
       "    .dataframe tbody tr th:only-of-type {\n",
       "        vertical-align: middle;\n",
       "    }\n",
       "\n",
       "    .dataframe tbody tr th {\n",
       "        vertical-align: top;\n",
       "    }\n",
       "\n",
       "    .dataframe thead th {\n",
       "        text-align: right;\n",
       "    }\n",
       "</style>\n",
       "<table border=\"1\" class=\"dataframe\">\n",
       "  <thead>\n",
       "    <tr style=\"text-align: right;\">\n",
       "      <th></th>\n",
       "      <th>views</th>\n",
       "    </tr>\n",
       "  </thead>\n",
       "  <tbody>\n",
       "    <tr>\n",
       "      <th>show</th>\n",
       "      <td>128245150</td>\n",
       "    </tr>\n",
       "    <tr>\n",
       "      <th>news</th>\n",
       "      <td>745347044</td>\n",
       "    </tr>\n",
       "    <tr>\n",
       "      <th>funny</th>\n",
       "      <td>1647796010</td>\n",
       "    </tr>\n",
       "    <tr>\n",
       "      <th>new</th>\n",
       "      <td>277633472</td>\n",
       "    </tr>\n",
       "    <tr>\n",
       "      <th>how</th>\n",
       "      <td>377761812</td>\n",
       "    </tr>\n",
       "  </tbody>\n",
       "</table>\n",
       "</div>"
      ],
      "text/plain": [
       "            views\n",
       "show    128245150\n",
       "news    745347044\n",
       "funny  1647796010\n",
       "new     277633472\n",
       "how     377761812"
      ]
     },
     "execution_count": 34,
     "metadata": {
      "tags": []
     },
     "output_type": "execute_result"
    }
   ],
   "source": [
    "# count the views for each unique tag and add them to above's dataframe\n",
    "for unique in uniquetagslist:\n",
    "    index = 0\n",
    "    for tag in cleantagsdf.tags:\n",
    "        index += 1\n",
    "        if unique in tag:\n",
    "            tagsviewsdf.views[index-1] += cleantagsdf.views[index-1]\n",
    "\n",
    "# show the first tags along with their view count  \n",
    "tagsviewsdf.head()"
   ]
  },
  {
   "cell_type": "code",
   "execution_count": 35,
   "metadata": {
    "_uuid": "86a18f1e12a06aab89d475dfb03cd6946ce4c01f",
    "colab": {
     "base_uri": "https://localhost:8080/",
     "height": 585
    },
    "colab_type": "code",
    "id": "G5ri8f64pLEd",
    "outputId": "b40be1e1-4d74-4875-f1cb-568ad59fbfb2",
    "scrolled": true
   },
   "outputs": [
    {
     "data": {
      "image/png": "[encoded data removed]",
      "text/plain": [
       "<matplotlib.figure.Figure at 0x7f6b7c8b3e80>"
      ]
     },
     "metadata": {
      "tags": []
     },
     "output_type": "display_data"
    }
   ],
   "source": [
    "# Now creating a bar chart of the top-viewed tags along with their view counts\n",
    "tagsviewslice = tagsviewsdf.views.sort_values(ascending=False)[:30].sort_values()\n",
    "tagsviewslice.plot(kind='barh',title='View Counts for Most-Viewed Tags in Trending Videos',grid=True,fontsize=12,figsize=(11,8))\n",
    "plt.xlabel('Total Views By Videos Containing Each Tag')\n",
    "\n",
    "plt.tight_layout()\n",
    "plt.show()"
   ]
  },
  {
   "cell_type": "markdown",
   "metadata": {
    "_uuid": "ee0210d02b4c5da0140ebc3a20f08795f69a5e3b",
    "colab_type": "text",
    "id": "w6dLDc4ipLEk"
   },
   "source": [
    "**Observations:**\n",
    "\n",
    "This was the most surprising answer to find in this report. Some of these other tags are completely unknown terms to me. But they are insightful because they don't represent what youtubers think is popular. Instead, they represent what people actually watch the most in Youtube."
   ]
  },
  {
   "cell_type": "markdown",
   "metadata": {
    "_uuid": "ae2a836227f963cbb4359cf69b2f63590c3f0569",
    "colab_type": "text",
    "id": "hIp-t_HnpLEm"
   },
   "source": [
    "**Further Research Proposal**\n",
    "\n",
    "This analysis has perhaps raised more questions than the ones it answered. In fact, each one of the questions analyzed could be further explored to indefinite lengths. Here are some ideas for further research regarding this data.\n",
    "\n",
    "**1: Create a Dataset that contains an even balance of all kinds of Youtube videos.**\n",
    "\n",
    "Scrapping a dataset like this would allow to make calculations that could better describe youtube's content as a whole, instead of studying only those videos who have been carefully crafted to be famous.\n",
    "\n",
    "**2: Include a column that includes the comments section of each video and analyze viewer's emotions with NLP.**\n",
    "\n",
    "**3: Use Machine Learning to predict number of views based on video tags and uploader demographics. (Where they're from, subscribers, profile, other videos they have, etc.)**\n"
   ]
  },
  {
   "cell_type": "code",
   "execution_count": 0,
   "metadata": {
    "_uuid": "b76ffe7c67d2a7a0a7466470705357773c0c6e47",
    "colab": {},
    "colab_type": "code",
    "id": "m8vAajcYpLEo"
   },
   "outputs": [],
   "source": []
  }
 ],
 "metadata": {
  "colab": {
   "collapsed_sections": [],
   "include_colab_link": true,
   "name": "Youtube Trending Videos- Basic Analysis.ipynb",
   "provenance": [],
   "version": "0.3.2"
  },
  "kernelspec": {
   "display_name": "Python 3",
   "language": "python",
   "name": "python3"
  },
  "language_info": {
   "codemirror_mode": {
    "name": "ipython",
    "version": 3
   },
   "file_extension": ".py",
   "mimetype": "text/x-python",
   "name": "python",
   "nbconvert_exporter": "python",
   "pygments_lexer": "ipython3",
   "version": "3.7.7"
  },
  "toc": {
   "base_numbering": 1,
   "nav_menu": {},
   "number_sections": true,
   "sideBar": true,
   "skip_h1_title": false,
   "title_cell": "Table of Contents",
   "title_sidebar": "Contents",
   "toc_cell": false,
   "toc_position": {},
   "toc_section_display": true,
   "toc_window_display": false
  },
  "varInspector": {
   "cols": {
    "lenName": 16,
    "lenType": 16,
    "lenVar": 40
   },
   "kernels_config": {
    "python": {
     "delete_cmd_postfix": "",
     "delete_cmd_prefix": "del ",
     "library": "var_list.py",
     "varRefreshCmd": "print(var_dic_list())"
    },
    "r": {
     "delete_cmd_postfix": ") ",
     "delete_cmd_prefix": "rm(",
     "library": "var_list.r",
     "varRefreshCmd": "cat(var_dic_list()) "
    }
   },
   "types_to_exclude": [
    "module",
    "function",
    "builtin_function_or_method",
    "instance",
    "_Feature"
   ],
   "window_display": false
  }
 },
 "nbformat": 4,
 "nbformat_minor": 1
}
